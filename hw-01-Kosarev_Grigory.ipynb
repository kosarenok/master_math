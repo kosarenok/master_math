{
 "cells": [
  {
   "cell_type": "markdown",
   "metadata": {},
   "source": [
    "<center>\n",
    "    <img src=\"https://raw.githubusercontent.com/dvgodoy/PyTorch101_ODSC_Europe2020/master/images/linear_dogs.jpg\" height=\"400\" width=\"800\"> \n",
    "</center>  \n",
    "\n",
    "# Yet another math for DS course: домашнее задание 1"
   ]
  },
  {
   "cell_type": "markdown",
   "metadata": {},
   "source": [
    "**ФИО:**\n",
    "\n",
    "**Забавный факт о себе:**"
   ]
  },
  {
   "cell_type": "markdown",
   "metadata": {},
   "source": [
    "## Общая информация\n",
    "\n",
    "\n",
    "__Дата выдачи:__ 03.10.2023\n",
    "\n",
    "__Мягкий дедлайн:__ 23:59MSK 29.10.2023\n",
    "\n",
    "__Жёсткий дедлайн:__ 23:59MSK 05.11.2023"
   ]
  },
  {
   "cell_type": "markdown",
   "metadata": {},
   "source": [
    "## Формат сдачи\n",
    "\n",
    "Сам ноутбук называйте в формате hw-01-USERNAME.ipynb, где USERNAME — ваши фамилия и имя. Файл надо будет сдать в anytask."
   ]
  },
  {
   "cell_type": "markdown",
   "metadata": {},
   "source": [
    "## Оформление"
   ]
  },
  {
   "cell_type": "markdown",
   "metadata": {},
   "source": [
    "1. Be good, drink milk and [think of Russia](https://www.youtube.com/watch?v=jyxSFfBKMxQ)\n",
    "2. Обязательно фиксируйте зерно генератора случайных чисел в экспериментах. При перезапуске кода значения не должны меняться.\n",
    "3. Вверху файла подпишите фамилию, имя, группу и какой-то занимательный факт о себе.\n",
    "4. Обратите внимание, что у графиков должны быть подписаны оси, заголовок графика и при необходимости обязательно наличие легенды. \n",
    "\n",
    "> За отсутствие названий графиков и подписей к осям могут снижаться баллы. Все картинки должны быть самодостаточны и визуально удобны для восприятия, так чтобы не нужно было смотреть ваш код или знать задание, чтобы понять что на них изображено.\n",
    "\n",
    "\n",
    "Для каждого построенного графика делайте выводы. Эти выводы не должны быть поверхностными и очевидными. Не будьте мудрым королём.\n",
    "\n",
    "<br>\n",
    "\n",
    "<center>\n",
    "<img src=\"https://raw.githubusercontent.com/hse-econ-data-science/andan_2023/main/hw/king.png\" width=\"300\"> \n",
    "</center>\n",
    "\n",
    "**Пример плохого вывода:** Синенькая линия идет вверх, а красная вниз. Черненькая идет вниз, а потом вверх. \n",
    "\n",
    "<br>\n",
    "\n",
    "<center>\n",
    "<img src=\"https://raw.githubusercontent.com/hse-econ-data-science/andan_2023/main/hw/bad_lines.png\" width=\"600\"> \n",
    "</center>"
   ]
  },
  {
   "cell_type": "markdown",
   "metadata": {},
   "source": [
    "Это домашнее задание состоит из двух частей: \n",
    "\n",
    "- Часть с кодом\n",
    "- Часть с ручными задачами\n",
    "\n",
    "Часть с кодом должна быть оформлена на в юпитерской тетрадке. Весь код необходимо писать на python.\n",
    "\n",
    "Ручную часть можно решать на бумаге и оформить в виде отсканированной pdf-ки с разборчивым почерком. Можно вбить решение в виде формул прямо в юпитерскую тетрадку, можно сделать pdf-ку в техе."
   ]
  },
  {
   "cell_type": "markdown",
   "metadata": {},
   "source": [
    "## Часть 1: ручная\n",
    "\n",
    "За эту часть можно набрать 60 баллов. Также можно набрать бонусные 15 баллов. \n",
    "\n",
    "Условия задач [лежат по ссылке](https://github.com/FUlyankin/yet_another_math_for_DS/tree/main/hw)"
   ]
  },
  {
   "cell_type": "markdown",
   "metadata": {},
   "source": [
    "## Часть 2: пишем код\n",
    "\n",
    "За эту часть вы можете получить 40 обычных баллов и ещё 15 бонусных."
   ]
  },
  {
   "cell_type": "code",
   "execution_count": 2,
   "metadata": {},
   "outputs": [],
   "source": [
    "import numpy as np\n",
    "\n",
    "import scipy.linalg as sla\n",
    "\n",
    "import matplotlib.pyplot as plt\n",
    "%matplotlib inline"
   ]
  },
  {
   "cell_type": "markdown",
   "metadata": {},
   "source": [
    "## Задача №1: тупая механическая работа"
   ]
  },
  {
   "cell_type": "markdown",
   "metadata": {},
   "source": [
    "__[2 балла]__ Создайте диагональную матрицу $5\\times5$ с диагональными элементами 1, 2, 3, 4 и 5. \n",
    "\n",
    "- Найдите её след с помощью библиотечных функций. \n",
    "- Найдите обратную к ней матрицу."
   ]
  },
  {
   "cell_type": "code",
   "execution_count": 3,
   "metadata": {},
   "outputs": [
    {
     "data": {
      "text/plain": [
       "array([[1, 0, 0, 0, 0],\n",
       "       [0, 2, 0, 0, 0],\n",
       "       [0, 0, 3, 0, 0],\n",
       "       [0, 0, 0, 4, 0],\n",
       "       [0, 0, 0, 0, 5]])"
      ]
     },
     "execution_count": 3,
     "metadata": {},
     "output_type": "execute_result"
    }
   ],
   "source": [
    "# your code here\n",
    "# (♡-_-♡) \n",
    "diag_matrix = np.diag([1,2,3,4,5])\n",
    "diag_matrix"
   ]
  },
  {
   "cell_type": "code",
   "execution_count": 4,
   "metadata": {},
   "outputs": [
    {
     "data": {
      "text/plain": [
       "15"
      ]
     },
     "execution_count": 4,
     "metadata": {},
     "output_type": "execute_result"
    }
   ],
   "source": [
    "np.trace(diag_matrix)"
   ]
  },
  {
   "cell_type": "markdown",
   "metadata": {},
   "source": [
    "### Диагональная матрица симметрична $D^T = D$"
   ]
  },
  {
   "cell_type": "code",
   "execution_count": 5,
   "metadata": {},
   "outputs": [
    {
     "data": {
      "text/plain": [
       "array([[1, 0, 0, 0, 0],\n",
       "       [0, 2, 0, 0, 0],\n",
       "       [0, 0, 3, 0, 0],\n",
       "       [0, 0, 0, 4, 0],\n",
       "       [0, 0, 0, 0, 5]])"
      ]
     },
     "execution_count": 5,
     "metadata": {},
     "output_type": "execute_result"
    }
   ],
   "source": [
    "diag_matrix.T"
   ]
  },
  {
   "cell_type": "markdown",
   "metadata": {},
   "source": [
    "__[3 балла]__ сгенерируйте случайную матрицу $X$ размера $4\\times5$\n",
    "\n",
    "- Найдите определитель подматрицы матрицы $X$, расположенной на пересечении 2 и 3 строки и 1 и 2 столбца; считаем, что строки и столбцы нумеруются с единицы (используйте slicing!). Такой определитель называется **минором** матрицы $X$.\n",
    "- Найдите произведение $X^TX$, найдите его определитель.\n"
   ]
  },
  {
   "cell_type": "code",
   "execution_count": 6,
   "metadata": {},
   "outputs": [
    {
     "data": {
      "text/plain": [
       "array([[1, 6, 0, 7, 0],\n",
       "       [2, 5, 4, 0, 6],\n",
       "       [2, 2, 6, 4, 9],\n",
       "       [2, 3, 2, 2, 3]])"
      ]
     },
     "execution_count": 6,
     "metadata": {},
     "output_type": "execute_result"
    }
   ],
   "source": [
    "# your code here\n",
    "# ヽ(♡‿♡)ノ\n",
    "\n",
    "random_matrix = np.random.randint(10, size=(4, 5))\n",
    "random_matrix"
   ]
  },
  {
   "cell_type": "code",
   "execution_count": 7,
   "metadata": {},
   "outputs": [],
   "source": [
    "under_matrix = random_matrix[1:3, 0:2]"
   ]
  },
  {
   "cell_type": "code",
   "execution_count": 8,
   "metadata": {},
   "outputs": [
    {
     "data": {
      "text/plain": [
       "-6.0"
      ]
     },
     "execution_count": 8,
     "metadata": {},
     "output_type": "execute_result"
    }
   ],
   "source": [
    "np.linalg.det(under_matrix)"
   ]
  },
  {
   "cell_type": "code",
   "execution_count": 9,
   "metadata": {},
   "outputs": [
    {
     "data": {
      "text/plain": [
       "array([[ 86,  32,  42,  34],\n",
       "       [ 32,  81,  92,  45],\n",
       "       [ 42,  92, 141,  57],\n",
       "       [ 34,  45,  57,  30]])"
      ]
     },
     "execution_count": 9,
     "metadata": {},
     "output_type": "execute_result"
    }
   ],
   "source": [
    "matrix = np.dot(random_matrix, random_matrix.T)\n",
    "matrix"
   ]
  },
  {
   "cell_type": "code",
   "execution_count": 10,
   "metadata": {},
   "outputs": [
    {
     "data": {
      "text/plain": [
       "174928.00000000017"
      ]
     },
     "execution_count": 10,
     "metadata": {},
     "output_type": "execute_result"
    }
   ],
   "source": [
    "np.linalg.det(matrix)"
   ]
  },
  {
   "cell_type": "markdown",
   "metadata": {
    "id": "WI_6RaU-moWp"
   },
   "source": [
    "##  Задача №2: время\n",
    "\n",
    "__[10 баллов]__ Питон мотивирует пользоваться библиотечными функциями, когда они доступны, а не писать собственные. Библиотечные функции основаны на современных алгоритмах, обычно пишутся на более эффективных языках, таких как C++ или Fortran, а кроме того, оптимизированы для работы на многопроцессорных устройствах, так что обогнать эти решения просто так вы не сможете.\n",
    "\n",
    "Мы предлагаем вам убедиться в этом самим. Напишите функцию `my_det`, которая вычисляла бы определитель матрицы с помощью элементарных преобразований над строками. Функция должна выкидывать `ValueError` в случаях, если матрица не является квадратной."
   ]
  },
  {
   "cell_type": "code",
   "execution_count": 11,
   "metadata": {},
   "outputs": [
    {
     "data": {
      "text/plain": [
       "array([[1, 2, 3, 4, 5, 5, 5, 6],\n",
       "       [6, 2, 9, 9, 2, 3, 9, 2],\n",
       "       [9, 6, 9, 0, 2, 4, 7, 3],\n",
       "       [7, 2, 3, 2, 3, 9, 0, 2],\n",
       "       [1, 1, 2, 8, 8, 8, 5, 9],\n",
       "       [6, 4, 9, 0, 0, 4, 1, 3],\n",
       "       [4, 8, 2, 7, 1, 4, 9, 1],\n",
       "       [0, 4, 2, 6, 1, 9, 5, 0]])"
      ]
     },
     "execution_count": 11,
     "metadata": {},
     "output_type": "execute_result"
    }
   ],
   "source": [
    "test = np.random.randint(10, size=(8, 8))\n",
    "test"
   ]
  },
  {
   "cell_type": "code",
   "execution_count": 12,
   "metadata": {},
   "outputs": [
    {
     "data": {
      "text/plain": [
       "array([[2, 9, 9, 2, 3, 9, 2],\n",
       "       [6, 9, 0, 2, 4, 7, 3],\n",
       "       [2, 3, 2, 3, 9, 0, 2],\n",
       "       [1, 2, 8, 8, 8, 5, 9],\n",
       "       [4, 9, 0, 0, 4, 1, 3],\n",
       "       [8, 2, 7, 1, 4, 9, 1],\n",
       "       [4, 2, 6, 1, 9, 5, 0]])"
      ]
     },
     "execution_count": 12,
     "metadata": {},
     "output_type": "execute_result"
    }
   ],
   "source": [
    "test[1:, 1:]"
   ]
  },
  {
   "cell_type": "code",
   "execution_count": 23,
   "metadata": {
    "collapsed": true,
    "id": "7NgPQ2MtmoWq",
    "jupyter": {
     "outputs_hidden": true
    }
   },
   "outputs": [],
   "source": [
    "def my_det(matrix):\n",
    "    if matrix.shape[0] != matrix.shape[1]:\n",
    "        raise ValueError(\"Матрица не является квадратной\")\n",
    "\n",
    "    n = matrix.shape[0]\n",
    "    det = 1\n",
    "\n",
    "    # Создаем копию матрицы, чтобы избежать изменения исходной матрицы\n",
    "    matrix_copy = np.copy(matrix)\n",
    "\n",
    "    for i in range(n):\n",
    "        if matrix_copy[i, i] == 0:\n",
    "            # Если диагональный элемент равен нулю, ищем ненулевой элемент ниже и меняем строки\n",
    "            for j in range(i + 1, n):\n",
    "                if matrix_copy[j, i] != 0:\n",
    "                    matrix_copy[[i, j]] = matrix_copy[[j, i]]\n",
    "                    det *= -1  # Меняем знак определителя при перестановке строк\n",
    "\n",
    "        # Выполняем элементарные преобразования над строками\n",
    "        pivot = matrix_copy[i, i]\n",
    "        det *= pivot\n",
    "        matrix_copy[i] = matrix_copy[i].astype(float) / pivot  # Явно указываем тип данных float\n",
    "\n",
    "        for j in range(i + 1, n):\n",
    "            factor = matrix_copy[j, i]\n",
    "            matrix_copy[j] -= factor * matrix_copy[i]\n",
    "\n",
    "    return det\n"
   ]
  },
  {
   "cell_type": "markdown",
   "metadata": {
    "id": "YO72m_XsmoWq"
   },
   "source": [
    "Простая проверка:"
   ]
  },
  {
   "cell_type": "code",
   "execution_count": 25,
   "metadata": {
    "collapsed": true,
    "id": "3TUlLYOLmoWq",
    "jupyter": {
     "outputs_hidden": true
    }
   },
   "outputs": [
    {
     "name": "stdout",
     "output_type": "stream",
     "text": [
      "[[0 0 1]\n",
      " [0 1 0]\n",
      " [1 0 0]]\n",
      "-1\n",
      "-1.0\n"
     ]
    }
   ],
   "source": [
    "# Запустите этот блок кода\n",
    "X = np.array([[0,0,1], [0,1,0], [1,0,0]])\n",
    "print(X)\n",
    "print(my_det(X))\n",
    "print(np.linalg.det(X))"
   ]
  },
  {
   "cell_type": "markdown",
   "metadata": {
    "id": "N1vKEClLmoWq"
   },
   "source": [
    "На случай, если нам просто повезло с этой матрицей, имеет смысл написать чуть более хитрые тесты. Мы сгенерируем несколько случайных матриц $8\\times8$ с помощью функции `numpy.random.rand` и сравним ответ, выдаваемый нашей функцией, с настоящим определителем (результатом работы библиотечной функции `scipy.linalg.det`):"
   ]
  },
  {
   "cell_type": "code",
   "execution_count": 26,
   "metadata": {
    "collapsed": true,
    "id": "EkyYxvUSmoWq",
    "jupyter": {
     "outputs_hidden": true
    }
   },
   "outputs": [],
   "source": [
    "# Запустите этот блок кода\n",
    "for _ in range(10):\n",
    "    X = np.random.rand(8,8)\n",
    "    if np.abs(my_det(X) - sla.det(X)) > 1e-6:\n",
    "        print('FAILED')"
   ]
  },
  {
   "cell_type": "markdown",
   "metadata": {
    "id": "ezkmq4MRmoWr"
   },
   "source": [
    "Если вы ни разу не получили `FAILED`, то ваша функция работает правильно. "
   ]
  },
  {
   "cell_type": "markdown",
   "metadata": {
    "id": "7DYtTKT7moWr"
   },
   "source": [
    "Теперь давайте сравним скорость работы вашей функции и библиотечной функции `scipy.linalg.det`. В Питоне есть несколько способов измерения времени; мы воспользуемся декоратором `%timeit`. Будучи написан перед функцией, он запускает её некоторое количество раз, выбирает три случайных запуска и возвращает длительность самого быстрого из них. Модификатор `-o` между декоратором и функцией позволяет сохранять результаты работы декоратора в переменную.\n",
    "\n",
    "Приготовьтесь, что следующий блок может работать сравнительно долго."
   ]
  },
  {
   "cell_type": "code",
   "execution_count": 27,
   "metadata": {
    "collapsed": true,
    "id": "PJpkg2BHmoWr",
    "jupyter": {
     "outputs_hidden": true
    }
   },
   "outputs": [
    {
     "name": "stdout",
     "output_type": "stream",
     "text": [
      "23 µs ± 4.73 µs per loop (mean ± std. dev. of 7 runs, 10,000 loops each)\n",
      "246 µs ± 29.7 µs per loop (mean ± std. dev. of 7 runs, 1,000 loops each)\n",
      "44.2 ms ± 12.9 ms per loop (mean ± std. dev. of 7 runs, 10 loops each)\n",
      "23.2 ms ± 2.54 ms per loop (mean ± std. dev. of 7 runs, 10 loops each)\n",
      "258 ms ± 94.9 ms per loop (mean ± std. dev. of 7 runs, 1 loop each)\n"
     ]
    },
    {
     "name": "stderr",
     "output_type": "stream",
     "text": [
      "C:\\Users\\Kosarev_G\\AppData\\Local\\Temp\\ipykernel_39268\\2594428965.py:21: RuntimeWarning: overflow encountered in scalar multiply\n",
      "  det *= pivot\n"
     ]
    },
    {
     "name": "stdout",
     "output_type": "stream",
     "text": [
      "2.97 s ± 380 ms per loop (mean ± std. dev. of 7 runs, 1 loop each)\n"
     ]
    },
    {
     "data": {
      "text/plain": [
       "<matplotlib.legend.Legend at 0x26b04900710>"
      ]
     },
     "execution_count": 27,
     "metadata": {},
     "output_type": "execute_result"
    },
    {
     "data": {
      "image/png": "[encoded data removed]",
      "text/plain": [
       "<Figure size 640x480 with 1 Axes>"
      ]
     },
     "metadata": {},
     "output_type": "display_data"
    }
   ],
   "source": [
    "# Запустите этот блок кода\n",
    "lib_times = []\n",
    "my_times = []\n",
    "dimensions = [10, 100, 1000]\n",
    "for dim in dimensions:\n",
    "    A = np.random.rand(dim, dim)\n",
    "    res_lib = %timeit -o sla.det(A)\n",
    "    lib_times.append(res_lib.best)\n",
    "    res_my = %timeit -o my_det(A)\n",
    "    my_times.append(res_my.best)    \n",
    "\n",
    "plt.plot(dimensions, lib_times, color='blue', label='Library function')\n",
    "plt.plot(dimensions, my_times, color='red', label='My function')\n",
    "plt.title('My function vs library function, log y scale')\n",
    "plt.ylabel('Time')\n",
    "plt.xlabel('Matrix dimension')\n",
    "plt.legend()"
   ]
  },
  {
   "cell_type": "markdown",
   "metadata": {
    "id": "NFIB6OHAmoWr"
   },
   "source": [
    "У вас должны были получиться графики, показывающие, как растёт с ростом размерности матрицы время вычисления определителя. Поскольку они вышли не больно-то красивыми, мы нарисуем их в *логарифмическом масштабе* по оси у:"
   ]
  },
  {
   "cell_type": "code",
   "execution_count": 28,
   "metadata": {
    "collapsed": true,
    "id": "GkgijRiWmoWr",
    "jupyter": {
     "outputs_hidden": true
    }
   },
   "outputs": [
    {
     "data": {
      "text/plain": [
       "<matplotlib.legend.Legend at 0x26b04906910>"
      ]
     },
     "execution_count": 28,
     "metadata": {},
     "output_type": "execute_result"
    },
    {
     "data": {
      "image/png": "[encoded data removed]",
      "text/plain": [
       "<Figure size 640x480 with 1 Axes>"
      ]
     },
     "metadata": {},
     "output_type": "display_data"
    }
   ],
   "source": [
    "# Запустите этот блок кода\n",
    "plt.semilogy(dimensions, lib_times, color='blue', label='Library function')\n",
    "plt.semilogy(dimensions, my_times, color='red', label='My function')\n",
    "plt.title('My function vs library function, log y scale')\n",
    "plt.ylabel('Time')\n",
    "plt.xlabel('Matrix dimension')\n",
    "plt.legend()"
   ]
  },
  {
   "cell_type": "markdown",
   "metadata": {
    "id": "vH8mtr3JmoWr"
   },
   "source": [
    "Вы можете убедиться, что библиотечная функция работает *гораздо* быстрее."
   ]
  },
  {
   "cell_type": "markdown",
   "metadata": {},
   "source": [
    "##  Задача №3: точность\n",
    "\n",
    "__[10 баллов]__ Наверняка вы уже что-то знаете про floating point arithmetics и связанные с этим трудности и понимаете, что на компьютере вычисления с вещественными числами производятся лишь с ограниченной точностью. "
   ]
  },
  {
   "cell_type": "markdown",
   "metadata": {},
   "source": [
    "В качестве первого примера, показывающего различие между длинной арифметикой целых чисел и floating point arithmetics, предлагаем вам перемножить две пары матриц:\n",
    "\n",
    "$$\n",
    "\\begin{pmatrix}\n",
    "1 & 0\\\\\n",
    "10^{20} & 1\n",
    "\\end{pmatrix}\n",
    "\\cdot\n",
    "\\begin{pmatrix}\n",
    "10^{-20} & 1\\\\\n",
    "0 & 1 - 10^{20}\n",
    "\\end{pmatrix}\n",
    "$$\n",
    "и\n",
    "$$\n",
    "\\begin{pmatrix}\n",
    "1. & 0.\\\\\n",
    "10.^{20} & 1.\n",
    "\\end{pmatrix}\n",
    "\\cdot\n",
    "\\begin{pmatrix}\n",
    "10.^{-20} & 1.\\\\\n",
    "0. & 1. - 10.^{20}\n",
    "\\end{pmatrix}\n",
    "$$\n",
    "Во втором случае мы специально указали Питону (поставив везде десятичные точки), что хотим работать не с целыми числами, а с числами с плавающей точкой. Посмотрим, получатся ли одинаковые ответы:"
   ]
  },
  {
   "cell_type": "code",
   "execution_count": 43,
   "metadata": {},
   "outputs": [
    {
     "data": {
      "text/plain": [
       "array([[1e-20, 1],\n",
       "       [1.0, 1]], dtype=object)"
      ]
     },
     "execution_count": 43,
     "metadata": {},
     "output_type": "execute_result"
    }
   ],
   "source": [
    "# your code here\n",
    "# (⌒_⌒;)\n",
    "\n",
    "# Матрицы с целыми числами\n",
    "A_int = np.array([[1, 0], [10**20, 1]])\n",
    "B_int = np.array([[10**-20, 1], [0, 1 - 10**20]])\n",
    "\n",
    "result_int = np.dot(A_int, B_int)\n",
    "result_int\n"
   ]
  },
  {
   "cell_type": "code",
   "execution_count": 40,
   "metadata": {
    "collapsed": true,
    "id": "_zUpUvbGmoWs",
    "jupyter": {
     "outputs_hidden": true
    }
   },
   "outputs": [
    {
     "name": "stdout",
     "output_type": "stream",
     "text": [
      "\n",
      "Результат с числами с плавающей точкой:\n",
      "[[1.e-20 1.e+00]\n",
      " [1.e+00 0.e+00]]\n"
     ]
    }
   ],
   "source": [
    "# Your code here\n",
    "# Матрицы с числами с плавающей точкой\n",
    "A_float = np.array([[1.0, 0.0], [10.0**20, 1.0]], dtype=float)\n",
    "B_float = np.array([[10.0**(-20), 1.0], [0.0, 1.0 - 10.0**20]], dtype=float)\n",
    "\n",
    "\n",
    "result_float = np.dot(A_float, B_float)\n",
    "print(\"\\nРезультат с числами с плавающей точкой:\")\n",
    "print(result_float)\n"
   ]
  },
  {
   "cell_type": "markdown",
   "metadata": {
    "id": "G7ht2QTUmoWs"
   },
   "source": [
    "И какой из них правильный?\n",
    "\n",
    "**Ответ:**\n",
    "Наиболее правильный ответ получился при вычислении целых чисел. Если посмотреть на 2 строку 1-го столбца. При сложении 10е20 и 1-10у20 получается единица."
   ]
  },
  {
   "cell_type": "markdown",
   "metadata": {
    "id": "C3IKhXXMmoWs"
   },
   "source": [
    "Впрочем, и с целыми числами тоже не всегда всё хорошо. Напишите функцию, генерирующую *матрицу Паскаля* заданной размерности $n$, то есть матрицу $P$, в которой $P_{ij} = C_{i+j}^i$. В этом задании нельзя пользоваться библиотечной функцией `scipy.linalg.pascal` или её аналогами из других библиотек. Обратите внимание, что использование факториалов крайне нежелательно, так как быстро приведёт к переполнению.\n",
    "\n",
    "В этом задании вы можете использовать цикл ``for``."
   ]
  },
  {
   "cell_type": "code",
   "execution_count": 57,
   "metadata": {},
   "outputs": [],
   "source": [
    "def generate_pascal_matrix(dim):\n",
    "    pascal = np.zeros((dim, dim), dtype=int)\n",
    "\n",
    "    for i in range(dim):\n",
    "        for j in range(i + 1):\n",
    "            if j == 0 or j == i:\n",
    "                pascal[i][j] = 1\n",
    "            else:\n",
    "                pascal[i][j] = pascal[i - 1][j - 1] + pascal[i - 1][j]\n",
    "\n",
    "    return pascal\n"
   ]
  },
  {
   "cell_type": "markdown",
   "metadata": {
    "id": "3P0Kz6MomoWs"
   },
   "source": [
    "Чему равен определитель такой матрицы в теории?\n",
    "\n",
    "**Ответ:**\n",
    "\n",
    "Определитель матрицы Паскаля всегда равен единице."
   ]
  },
  {
   "cell_type": "markdown",
   "metadata": {
    "id": "bvz9Wst_moWs"
   },
   "source": [
    "А теперь вычислите определитель матрицы Паскаля $30\\times30$ с помощью библиотечной функции `scipy.linalg.det`:"
   ]
  },
  {
   "cell_type": "code",
   "execution_count": 67,
   "metadata": {
    "collapsed": true,
    "id": "mz2uAjjEmoWs",
    "jupyter": {
     "outputs_hidden": true
    }
   },
   "outputs": [
    {
     "name": "stderr",
     "output_type": "stream",
     "text": [
      "C:\\Users\\Kosarev_G\\AppData\\Local\\Temp\\ipykernel_39268\\2806735280.py:9: RuntimeWarning: overflow encountered in scalar add\n",
      "  pascal[i][j] = pascal[i - 1][j - 1] + pascal[i - 1][j]\n"
     ]
    },
    {
     "data": {
      "text/plain": [
       "-304391180328.45374"
      ]
     },
     "execution_count": 67,
     "metadata": {},
     "output_type": "execute_result"
    }
   ],
   "source": [
    "# your code here\n",
    "# (＠_＠)\n",
    "\n",
    "np.linalg.det(generate_pascal_matrix(40))"
   ]
  },
  {
   "cell_type": "code",
   "execution_count": 80,
   "metadata": {},
   "outputs": [
    {
     "name": "stderr",
     "output_type": "stream",
     "text": [
      "C:\\Users\\Kosarev_G\\AppData\\Local\\Temp\\ipykernel_39268\\2806735280.py:9: RuntimeWarning: overflow encountered in scalar add\n",
      "  pascal[i][j] = pascal[i - 1][j - 1] + pascal[i - 1][j]\n"
     ]
    },
    {
     "data": {
      "image/png": "[encoded data removed]",
      "text/plain": [
       "<Figure size 640x480 with 1 Axes>"
      ]
     },
     "metadata": {},
     "output_type": "display_data"
    }
   ],
   "source": [
    "dict = {}\n",
    "for i in range(40):\n",
    "    dict[i] = np.linalg.det(generate_pascal_matrix(i))\n",
    "\n",
    "lists = sorted(dict.items())\n",
    "x,y = zip(*lists)\n",
    "plt.plot(x,y)\n",
    "plt.tight_layout()\n",
    "plt.show()"
   ]
  },
  {
   "cell_type": "markdown",
   "metadata": {
    "id": "8ZM9w60nmoWs"
   },
   "source": [
    "Разница заметна невооружённым взглядом!"
   ]
  },
  {
   "cell_type": "markdown",
   "metadata": {},
   "source": [
    "Вижу, что где-то к 40 элементу уходит в отказ))"
   ]
  },
  {
   "cell_type": "markdown",
   "metadata": {
    "id": "HjL92lAzmoWt"
   },
   "source": [
    "##  Задача №4: матричные вычисления"
   ]
  },
  {
   "cell_type": "markdown",
   "metadata": {
    "id": "_tKBETFbmoWt"
   },
   "source": [
    "Вы уже видели, что использования циклов (и самописных вычислений в целом) в Питоне лучше по возможности избегать и важно уметь находить способы делать всё библиотечными средствами.\n",
    "\n",
    "В качестве примера рассмотрим две задачи:\n",
    "\n",
    "**1.** Предположим, нужно вычислить суммы элементов в каждой строке матрицы `A`. Ясно, что можно написать простую функцию с двумя циклами, которая это посчитает, но так лучше не делать. Правильный способ такой:\n",
    "```\n",
    "A.sum(axis=1)\n",
    "```\n",
    "Параметр `axis=1` означает, что суммы берутся по строкам. Если вы хотите просуммировать по столбцам, укажите `axis=0`. Если вообще пропустить параметр `axis` (вызвать `A.sum()`), то функция вернёт сумму *всех* элементов матрицы.\n",
    "\n",
    "**2.** Теперь допустим, что нам нужно каждый столбец матрицы `A` умножить на некоторое число. Более точно, пусть у нас есть (одномерный) вектор `w = np.array([w_1,...,w_n])`, и мы должны `i`-й столбец `A` умножить на число `w_i`. Опять же, это можно сделать в пару циклов, но лучше использовать операцию поэлементного умножения:\n",
    "```\n",
    "A * w.reshape((1,n))\n",
    "```\n",
    "Оператор `reshape` нужен для того, чтобы из одномерного вектора сделать вектор-строку.\n",
    "\n",
    "Аналогично, если на числа `w_1,...,w_n` умножаются *строки* матрицы, нужно превратить `w` в вектор-столбец:\n",
    "```\n",
    "A * w.reshape((n,1))\n",
    "```"
   ]
  },
  {
   "cell_type": "markdown",
   "metadata": {
    "id": "cDc9PzhHmoWt"
   },
   "source": [
    "Дальше вам будет предложено попрактиковаться в матричных вычислениях. В следующих трёх заданиях нельзя пользоваться циклами, а также конструкциями `map` и `reduce` и им подобными; вместо этого постарайтесь свести всё к матричным операциям из `numpy` (но, опять же, не `np.vectorize` или чему-то подобному). Чтобы убедиться, что получилось именно то, что нужно, пишите собственные тесты со случайными матрицами."
   ]
  },
  {
   "cell_type": "markdown",
   "metadata": {
    "id": "Q6MLfLDToM8y"
   },
   "source": [
    "Не забудьте написать тесты, которые будут проверять корректность ваших функций."
   ]
  },
  {
   "cell_type": "markdown",
   "metadata": {
    "id": "YT5HrPv_moWt"
   },
   "source": [
    "**[5 баллов]** Напишите функцию `prod_and_sq_sum(A)`, вычисляющую произведение и сумму квадратов диагональных элементов квадратной матрицы `A`."
   ]
  },
  {
   "cell_type": "code",
   "execution_count": 81,
   "metadata": {
    "collapsed": true,
    "id": "Ocn0DLI4moWt",
    "jupyter": {
     "outputs_hidden": true
    }
   },
   "outputs": [],
   "source": [
    "# your code here\n",
    "# ٩(x̯x)۶\n",
    "\n",
    "def prod_and_sq_sum(A):\n",
    "    if A.shape[0] != A.shape[1]:\n",
    "        raise ValueError('Function argument requires square matricies only')\n",
    "    \n",
    "    prod = np.prod(np.diag(A))\n",
    "    sq_sum = np.sum(np.diag(A)**2)\n",
    "\n",
    "    return prod, sq_sum"
   ]
  },
  {
   "cell_type": "markdown",
   "metadata": {
    "id": "DxShkE1UmoWt"
   },
   "source": [
    "**[5 баллов]** Для матриц `A` и `B` размера $m\\times n$ обозначим через $a_1,\\ldots,a_n$ и $b_1,\\ldots,b_n$ соответственно их столбцы. Напишите функцию `f(A, B, k)`, вычисляющую\n",
    "\n",
    "$$\\sum_{i=1}^{\\min(k,m)}a_ib_i^T$$"
   ]
  },
  {
   "cell_type": "code",
   "execution_count": null,
   "metadata": {
    "collapsed": true,
    "id": "g1vaeLvkmoWu",
    "jupyter": {
     "outputs_hidden": true
    }
   },
   "outputs": [],
   "source": [
    "# your code here\n",
    "# ( ͡⊙ ͜ʖ ͡⊙)"
   ]
  },
  {
   "cell_type": "markdown",
   "metadata": {
    "id": "EUiRcVJdmoWu"
   },
   "source": [
    "**[5 баллов]** Напишите функцию `get_diag(A,B)`, принимающую две квадратных матрицы `A` и `B` одного размера и возвращающую вектор диагональных элементов произведения `AB`, не вычисляя произведение целиком. "
   ]
  },
  {
   "cell_type": "code",
   "execution_count": null,
   "metadata": {
    "collapsed": true,
    "id": "qF7VVHrhmoWu",
    "jupyter": {
     "outputs_hidden": true
    }
   },
   "outputs": [],
   "source": [
    "# your code here\n",
    "# (っ˘ڡ˘ς) "
   ]
  },
  {
   "cell_type": "markdown",
   "metadata": {
    "id": "H9iZAF6TmoWw"
   },
   "source": [
    "##  Задача №5 (бонусная): Метод Гаусса или обратные матрицы?\n",
    "\n",
    "__[15 баллов]__ Баллы за эту задачу считаются бонусными. То есть за дз в сумме можно набрать 115 баллов."
   ]
  },
  {
   "cell_type": "markdown",
   "metadata": {
    "id": "1liSd6SwmoWw"
   },
   "source": [
    "Пусть нам дано матричное уравнение $Ax = B$, где $A$ &mdash; матрица размера $n\\times n$, а $B$ &mdash; матрица размера $n\\times m$ (отметим, что это уравнение можно интерпретировать как $m$ систем с векторными правыми частями и одинаковыми левыми). Вообще говоря, методов решения таких уравнений очень много, но мы пока рассмотрим два из них, с которыми вы уже хорошо знакомы.\n",
    "1. Метод Гаусса;\n",
    "2. Умножение на обратную матрицу: $x = A^{-1}B$.\n",
    "\n",
    "В этом задании вы попробуете ответить на вопрос о том, какой из этих методов эффективнее. Проведите два эксперимента:\n",
    "- сравните скорости решения системы при фиксированном `m = 10` и `n`, изменяющемся в пределах от 10 до 1000; например, для `n=10, 50, 100, 200, 500, 1000` (рост числа неизвестных при фиксированном количестве правых частей);\n",
    "- сравните скорости решения системы при фиксированном `n = 100` и `m`, меняющемся от 10 до 10000; например, для `m = 10, 100, 500, 1000, 2000, 5000, 10000` (рост числа правых частей при фиксированном числе неизвестных).\n",
    "\n",
    "При проведении экспериментов не возбраняется использовать циклы `for`.\n",
    "\n",
    "Эксперименты проведите на случайных матрицах, созданных с помощью функции `numpy.random.rand`. Постройте графики времени выполнения функции от размерности (лучше в логарифмическом масштабе). Сделайте выводы (в письменном виде!) о том, какой их методов оказывается лучше в каких обстоятельствах.\n",
    "\n",
    "Чтобы всё это не казалось вам чёрной магией, найдите число операций (суммарно сложения, умножения и деления), необходимых для решения системы каждым из методов. Обратите внимание на члены суммарной степени 3 (суммарной по $m$ и $n$; члены меньшего порядка можете даже не считать). Постарайтесь объяснить полученные ранее результаты."
   ]
  },
  {
   "cell_type": "code",
   "execution_count": null,
   "metadata": {
    "collapsed": true,
    "id": "LlZPR661moWw",
    "jupyter": {
     "outputs_hidden": true
    }
   },
   "outputs": [],
   "source": [
    "# your code here\n",
    "# ٩(ˊ〇ˋ*)و"
   ]
  }
 ],
 "metadata": {
  "colab": {
   "provenance": []
  },
  "kernelspec": {
   "display_name": "Python 3 (ipykernel)",
   "language": "python",
   "name": "python3"
  },
  "language_info": {
   "codemirror_mode": {
    "name": "ipython",
    "version": 3
   },
   "file_extension": ".py",
   "mimetype": "text/x-python",
   "name": "python",
   "nbconvert_exporter": "python",
   "pygments_lexer": "ipython3",
   "version": "3.11.5"
  }
 },
 "nbformat": 4,
 "nbformat_minor": 4
}
